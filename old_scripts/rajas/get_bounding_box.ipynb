{
 "cells": [
  {
   "cell_type": "code",
   "execution_count": 57,
   "metadata": {},
   "outputs": [],
   "source": [
    "import numpy as np\n",
    "import pandas as pd\n",
    "import matplotlib.pyplot as plt\n",
    "import pytz\n",
    "import datetime\n",
    "import os\n",
    "from tqdm.auto import tqdm\n",
    "import seaborn as sns\n",
    "from scipy.stats import zscore"
   ]
  },
  {
   "cell_type": "code",
   "execution_count": 133,
   "metadata": {},
   "outputs": [],
   "source": [
    "base_dir = \"/media/root/data/swiggy/\"\n",
    "data_dir = base_dir + \"data_DEL/\"\n",
    "swiggy_data_dir = data_dir + \"swiggy_data/\"\n",
    "req_data_dir = data_dir + \"required_data/\"\n",
    "\n",
    "plt.rcParams.update({'axes.titlesize': 20})\n",
    "plt.rcParams.update({'axes.labelsize': 16})\n",
    "\n",
    "pd.set_option('display.max_rows', 500)\n",
    "pd.set_option('display.max_columns', 500)\n",
    "pd.set_option('display.width', 1000)\n",
    "pd.options.display.float_format = '{:.5f}'.format"
   ]
  },
  {
   "cell_type": "code",
   "execution_count": 59,
   "metadata": {},
   "outputs": [],
   "source": [
    "order_files = ['orders_2019-05-01.csv','orders_2019-05-02.csv', 'orders_2019-05-03.csv',\n",
    "                'orders_2019-05-04.csv', 'orders_2019-05-05.csv', 'orders_2019-05-06.csv',\n",
    "                'orders_2019-05-07.csv', 'orders_2019-05-08.csv', 'orders_2019-05-09.csv']\n",
    "\n",
    "idx_to_day = ['Wed', 'Thurs', 'Fri', 'Sat', 'Sun', 'Mon', 'Tues', 'Wed', 'Thurs']"
   ]
  },
  {
   "cell_type": "code",
   "execution_count": 60,
   "metadata": {},
   "outputs": [],
   "source": [
    "orders_df = [pd.read_csv(req_data_dir + o_f) for o_f in order_files]"
   ]
  },
  {
   "cell_type": "code",
   "execution_count": 61,
   "metadata": {},
   "outputs": [],
   "source": [
    "zone_file = swiggy_data_dir + \"zone_updated.tsv\"\n",
    "rest_file = swiggy_data_dir + \"restaurant.tsv\"\n",
    "city_file = swiggy_data_dir + \"city.tsv\"\n",
    "area_file = swiggy_data_dir + \"area.tsv\""
   ]
  },
  {
   "cell_type": "code",
   "execution_count": 113,
   "metadata": {},
   "outputs": [],
   "source": [
    "z_df = pd.read_csv(zone_file, sep='\\t')\n",
    "r_df = pd.read_csv(rest_file, sep='\\t')\n",
    "c_df = pd.read_csv(city_file, sep='\\t')\n",
    "a_df = pd.read_csv(area_file, sep='\\t')"
   ]
  },
  {
   "cell_type": "code",
   "execution_count": 63,
   "metadata": {},
   "outputs": [],
   "source": [
    "# city_id = c_df[c_df['name'] == \"Bangalore\"]['id']\n",
    "city_id = c_df[c_df['name'] == \"Delhi\"]['id']\n",
    "# city_id = c_df[c_df['name'] == \"Ahmedabad\"]['id']\n",
    "\n",
    "city_id = int(city_id.iloc[0])"
   ]
  },
  {
   "cell_type": "code",
   "execution_count": 88,
   "metadata": {},
   "outputs": [],
   "source": [
    "orders_df = [i[i['city_id']==city_id] for i in orders_df]"
   ]
  },
  {
   "cell_type": "code",
   "execution_count": 64,
   "metadata": {},
   "outputs": [],
   "source": [
    "c_z_df = z_df[z_df['city_id'] == city_id]"
   ]
  },
  {
   "cell_type": "code",
   "execution_count": 65,
   "metadata": {},
   "outputs": [
    {
     "data": {
      "text/plain": [
       "(72, 18)"
      ]
     },
     "execution_count": 65,
     "metadata": {},
     "output_type": "execute_result"
    }
   ],
   "source": [
    "c_z_df.shape"
   ]
  },
  {
   "cell_type": "code",
   "execution_count": 66,
   "metadata": {},
   "outputs": [],
   "source": [
    "zone_b = c_z_df['path'].values.tolist()\n",
    "zone_b = [i.split() for i in zone_b]\n",
    "zone_b = [lat_long.split(\",\") for z in zone_b for lat_long in z]\n",
    "zone_b = [[float(lat_long[0]), float(lat_long[1])] for lat_long in zone_b]"
   ]
  },
  {
   "cell_type": "code",
   "execution_count": 67,
   "metadata": {},
   "outputs": [],
   "source": [
    "lat_lons = np.array(zone_b)"
   ]
  },
  {
   "cell_type": "code",
   "execution_count": 68,
   "metadata": {},
   "outputs": [
    {
     "data": {
      "image/png": "[encoded data removed]",
      "text/plain": [
       "<Figure size 432x288 with 1 Axes>"
      ]
     },
     "metadata": {
      "needs_background": "light"
     },
     "output_type": "display_data"
    }
   ],
   "source": [
    "plt.figure(figsize=(6,4))\n",
    "plt.hist(lat_lons[:, 1], bins = 50)\n",
    "plt.title(\"Distribution of BBOX Longitude\")\n",
    "plt.ylabel(\"Count\")\n",
    "plt.yscale(\"log\")\n",
    "plt.show()"
   ]
  },
  {
   "cell_type": "code",
   "execution_count": 69,
   "metadata": {},
   "outputs": [
    {
     "name": "stdout",
     "output_type": "stream",
     "text": [
      "77.6094148845\n"
     ]
    }
   ],
   "source": [
    "print(np.max(lat_lons[:, 1]))"
   ]
  },
  {
   "cell_type": "code",
   "execution_count": 70,
   "metadata": {},
   "outputs": [
    {
     "name": "stdout",
     "output_type": "stream",
     "text": [
      "76.96172955846873\n"
     ]
    }
   ],
   "source": [
    "print(np.min(lat_lons[:, 1][lat_lons[:, 1] > 76.5]))"
   ]
  },
  {
   "cell_type": "code",
   "execution_count": 71,
   "metadata": {},
   "outputs": [
    {
     "data": {
      "image/png": "[encoded data removed]",
      "text/plain": [
       "<Figure size 432x288 with 1 Axes>"
      ]
     },
     "metadata": {
      "needs_background": "light"
     },
     "output_type": "display_data"
    }
   ],
   "source": [
    "plt.figure(figsize=(6,4))\n",
    "plt.hist(lat_lons[:, 0], bins = 50)\n",
    "plt.title(\"Distribution of BBOX Latitude\")\n",
    "plt.ylabel(\"Count\")\n",
    "plt.yscale(\"log\")\n",
    "plt.show()"
   ]
  },
  {
   "cell_type": "code",
   "execution_count": 72,
   "metadata": {},
   "outputs": [
    {
     "name": "stdout",
     "output_type": "stream",
     "text": [
      "28.768498991804968\n"
     ]
    }
   ],
   "source": [
    "print(np.max(lat_lons[:, 0][lat_lons[:, 0] < 30.0]))"
   ]
  },
  {
   "cell_type": "code",
   "execution_count": 73,
   "metadata": {},
   "outputs": [
    {
     "name": "stdout",
     "output_type": "stream",
     "text": [
      "28.449826652402077\n"
     ]
    }
   ],
   "source": [
    "print(np.min(lat_lons[:, 0][lat_lons[:, 0] > 25.0]))"
   ]
  },
  {
   "cell_type": "code",
   "execution_count": null,
   "metadata": {},
   "outputs": [],
   "source": []
  },
  {
   "cell_type": "code",
   "execution_count": 89,
   "metadata": {},
   "outputs": [],
   "source": [
    "ll = []\n",
    "for o_df in orders_df:\n",
    "    ll.extend(orders_df[0].customer_lat_lng.str.split(',').values.tolist())"
   ]
  },
  {
   "cell_type": "code",
   "execution_count": 91,
   "metadata": {},
   "outputs": [],
   "source": [
    "lat = [float(i[0]) for i in ll]\n",
    "lon = [float(i[1]) for i in ll]"
   ]
  },
  {
   "cell_type": "code",
   "execution_count": 93,
   "metadata": {},
   "outputs": [
    {
     "data": {
      "image/png": "[encoded data removed]",
      "text/plain": [
       "<Figure size 432x288 with 1 Axes>"
      ]
     },
     "metadata": {
      "needs_background": "light"
     },
     "output_type": "display_data"
    }
   ],
   "source": [
    "plt.figure(figsize=(6,4))\n",
    "plt.hist(lat, bins = 50)\n",
    "plt.title(\"Distribution of BBOX Latitude\")\n",
    "plt.ylabel(\"Count\")\n",
    "plt.yscale(\"log\")\n",
    "plt.show()"
   ]
  },
  {
   "cell_type": "code",
   "execution_count": 94,
   "metadata": {},
   "outputs": [
    {
     "data": {
      "image/png": "[encoded data removed]",
      "text/plain": [
       "<Figure size 432x288 with 1 Axes>"
      ]
     },
     "metadata": {
      "needs_background": "light"
     },
     "output_type": "display_data"
    }
   ],
   "source": [
    "plt.figure(figsize=(6,4))\n",
    "plt.hist(lon, bins = 50)\n",
    "plt.title(\"Distribution of BBOX Latitude\")\n",
    "plt.ylabel(\"Count\")\n",
    "plt.yscale(\"log\")\n",
    "plt.show()"
   ]
  },
  {
   "cell_type": "code",
   "execution_count": 96,
   "metadata": {},
   "outputs": [
    {
     "name": "stdout",
     "output_type": "stream",
     "text": [
      "28.36802\n",
      "28.773167\n",
      "76.9374551\n",
      "77.554957\n"
     ]
    }
   ],
   "source": [
    "print(np.min(np.array(lat)))\n",
    "print(np.max(np.array(lat)))\n",
    "print(np.min(np.array(lon)))\n",
    "print(np.max(np.array(lon)))"
   ]
  },
  {
   "cell_type": "code",
   "execution_count": 108,
   "metadata": {},
   "outputs": [],
   "source": [
    "z_ids = (c_z_df.id.tolist())"
   ]
  },
  {
   "cell_type": "code",
   "execution_count": 121,
   "metadata": {},
   "outputs": [],
   "source": [
    "a_ids = a_df[a_df.zone_id.isin(z_ids)].area_id.values.tolist()"
   ]
  },
  {
   "cell_type": "code",
   "execution_count": 123,
   "metadata": {},
   "outputs": [],
   "source": [
    "r_df = r_df[r_df['enabled'] == 1]"
   ]
  },
  {
   "cell_type": "code",
   "execution_count": 124,
   "metadata": {},
   "outputs": [],
   "source": [
    "r_df = r_df[r_df.area_code.isin(a_ids)]"
   ]
  },
  {
   "cell_type": "code",
   "execution_count": 125,
   "metadata": {},
   "outputs": [
    {
     "data": {
      "text/plain": [
       "(10491, 29)"
      ]
     },
     "execution_count": 125,
     "metadata": {},
     "output_type": "execute_result"
    }
   ],
   "source": [
    "r_df.shape"
   ]
  },
  {
   "cell_type": "code",
   "execution_count": 134,
   "metadata": {},
   "outputs": [
    {
     "data": {
      "text/html": [
       "<div>\n",
       "<style scoped>\n",
       "    .dataframe tbody tr th:only-of-type {\n",
       "        vertical-align: middle;\n",
       "    }\n",
       "\n",
       "    .dataframe tbody tr th {\n",
       "        vertical-align: top;\n",
       "    }\n",
       "\n",
       "    .dataframe thead th {\n",
       "        text-align: right;\n",
       "    }\n",
       "</style>\n",
       "<table border=\"1\" class=\"dataframe\">\n",
       "  <thead>\n",
       "    <tr style=\"text-align: right;\">\n",
       "      <th></th>\n",
       "      <th>id</th>\n",
       "      <th>name</th>\n",
       "      <th>area_code</th>\n",
       "      <th>type</th>\n",
       "      <th>with_de</th>\n",
       "      <th>lat_long</th>\n",
       "      <th>enabled</th>\n",
       "      <th>archived</th>\n",
       "      <th>batching_enabled</th>\n",
       "      <th>third_party_delivery_enabled</th>\n",
       "      <th>prep_time_peak</th>\n",
       "      <th>max_banner_factor</th>\n",
       "      <th>max_second_mile</th>\n",
       "      <th>rain_mode</th>\n",
       "      <th>jit_enabled</th>\n",
       "      <th>address_verified</th>\n",
       "      <th>partner_id</th>\n",
       "      <th>self_delivery_override</th>\n",
       "      <th>fixed_sla</th>\n",
       "      <th>serviceable</th>\n",
       "      <th>max_active_orders</th>\n",
       "      <th>vendor_rain_mode</th>\n",
       "      <th>polygon_id</th>\n",
       "      <th>max_long_distance_last_mile</th>\n",
       "      <th>trust_rest_prep_time</th>\n",
       "      <th>o2p_buffer</th>\n",
       "      <th>jit_enabled_soft_tagging</th>\n",
       "      <th>is_long_distance_enabled</th>\n",
       "      <th>batching_version</th>\n",
       "    </tr>\n",
       "  </thead>\n",
       "  <tbody>\n",
       "    <tr>\n",
       "      <th>1323</th>\n",
       "      <td>1624</td>\n",
       "      <td>RP's The Family Restaurant</td>\n",
       "      <td>63</td>\n",
       "      <td>F</td>\n",
       "      <td>0</td>\n",
       "      <td>28.54046998773757,77.21833990674588</td>\n",
       "      <td>1</td>\n",
       "      <td>0.00000</td>\n",
       "      <td>1</td>\n",
       "      <td>1</td>\n",
       "      <td>25</td>\n",
       "      <td>3.00000</td>\n",
       "      <td>10.00000</td>\n",
       "      <td>1</td>\n",
       "      <td>0</td>\n",
       "      <td>1</td>\n",
       "      <td>19.00000</td>\n",
       "      <td>0</td>\n",
       "      <td>nan</td>\n",
       "      <td>1</td>\n",
       "      <td>nan</td>\n",
       "      <td>1</td>\n",
       "      <td>nan</td>\n",
       "      <td>10.00000</td>\n",
       "      <td>0</td>\n",
       "      <td>7.20600</td>\n",
       "      <td>0</td>\n",
       "      <td>1</td>\n",
       "      <td>2</td>\n",
       "    </tr>\n",
       "    <tr>\n",
       "      <th>1324</th>\n",
       "      <td>1625</td>\n",
       "      <td>Tunday Kababi</td>\n",
       "      <td>63</td>\n",
       "      <td>F</td>\n",
       "      <td>0</td>\n",
       "      <td>28.54043701402948,77.21264726679533</td>\n",
       "      <td>1</td>\n",
       "      <td>0.00000</td>\n",
       "      <td>1</td>\n",
       "      <td>1</td>\n",
       "      <td>25</td>\n",
       "      <td>3.00000</td>\n",
       "      <td>4.50000</td>\n",
       "      <td>1</td>\n",
       "      <td>0</td>\n",
       "      <td>1</td>\n",
       "      <td>19.00000</td>\n",
       "      <td>0</td>\n",
       "      <td>nan</td>\n",
       "      <td>1</td>\n",
       "      <td>nan</td>\n",
       "      <td>1</td>\n",
       "      <td>nan</td>\n",
       "      <td>9.50000</td>\n",
       "      <td>0</td>\n",
       "      <td>5.42500</td>\n",
       "      <td>0</td>\n",
       "      <td>1</td>\n",
       "      <td>2</td>\n",
       "    </tr>\n",
       "    <tr>\n",
       "      <th>1325</th>\n",
       "      <td>1626</td>\n",
       "      <td>Tunday Kababi</td>\n",
       "      <td>401</td>\n",
       "      <td>F</td>\n",
       "      <td>0</td>\n",
       "      <td>28.562547687479057,77.24466968832587</td>\n",
       "      <td>1</td>\n",
       "      <td>0.00000</td>\n",
       "      <td>1</td>\n",
       "      <td>0</td>\n",
       "      <td>28</td>\n",
       "      <td>3.00000</td>\n",
       "      <td>4.50000</td>\n",
       "      <td>1</td>\n",
       "      <td>0</td>\n",
       "      <td>1</td>\n",
       "      <td>2.00000</td>\n",
       "      <td>0</td>\n",
       "      <td>nan</td>\n",
       "      <td>1</td>\n",
       "      <td>nan</td>\n",
       "      <td>1</td>\n",
       "      <td>nan</td>\n",
       "      <td>9.50000</td>\n",
       "      <td>0</td>\n",
       "      <td>6.04100</td>\n",
       "      <td>0</td>\n",
       "      <td>1</td>\n",
       "      <td>2</td>\n",
       "    </tr>\n",
       "    <tr>\n",
       "      <th>1326</th>\n",
       "      <td>1627</td>\n",
       "      <td>Litti.in</td>\n",
       "      <td>63</td>\n",
       "      <td>F</td>\n",
       "      <td>0</td>\n",
       "      <td>28.537173,77.20995800000003</td>\n",
       "      <td>1</td>\n",
       "      <td>0.00000</td>\n",
       "      <td>1</td>\n",
       "      <td>1</td>\n",
       "      <td>25</td>\n",
       "      <td>3.00000</td>\n",
       "      <td>4.50000</td>\n",
       "      <td>1</td>\n",
       "      <td>0</td>\n",
       "      <td>1</td>\n",
       "      <td>3.00000</td>\n",
       "      <td>0</td>\n",
       "      <td>nan</td>\n",
       "      <td>1</td>\n",
       "      <td>nan</td>\n",
       "      <td>1</td>\n",
       "      <td>nan</td>\n",
       "      <td>9.50000</td>\n",
       "      <td>0</td>\n",
       "      <td>3.97500</td>\n",
       "      <td>0</td>\n",
       "      <td>1</td>\n",
       "      <td>2</td>\n",
       "    </tr>\n",
       "    <tr>\n",
       "      <th>1327</th>\n",
       "      <td>1628</td>\n",
       "      <td>Kathi</td>\n",
       "      <td>63</td>\n",
       "      <td>F</td>\n",
       "      <td>0</td>\n",
       "      <td>28.530847967666887,77.21882648346707</td>\n",
       "      <td>1</td>\n",
       "      <td>0.00000</td>\n",
       "      <td>1</td>\n",
       "      <td>1</td>\n",
       "      <td>25</td>\n",
       "      <td>3.00000</td>\n",
       "      <td>10.00000</td>\n",
       "      <td>1</td>\n",
       "      <td>0</td>\n",
       "      <td>1</td>\n",
       "      <td>3.00000</td>\n",
       "      <td>0</td>\n",
       "      <td>nan</td>\n",
       "      <td>1</td>\n",
       "      <td>nan</td>\n",
       "      <td>1</td>\n",
       "      <td>nan</td>\n",
       "      <td>nan</td>\n",
       "      <td>0</td>\n",
       "      <td>4.52000</td>\n",
       "      <td>0</td>\n",
       "      <td>0</td>\n",
       "      <td>2</td>\n",
       "    </tr>\n",
       "  </tbody>\n",
       "</table>\n",
       "</div>"
      ],
      "text/plain": [
       "        id                        name  area_code type  with_de                              lat_long  enabled  archived  batching_enabled  third_party_delivery_enabled  prep_time_peak  max_banner_factor  max_second_mile  rain_mode  jit_enabled  address_verified  partner_id  self_delivery_override  fixed_sla  serviceable  max_active_orders  vendor_rain_mode  polygon_id  max_long_distance_last_mile  trust_rest_prep_time  o2p_buffer  jit_enabled_soft_tagging  is_long_distance_enabled  batching_version\n",
       "1323  1624  RP's The Family Restaurant         63    F        0   28.54046998773757,77.21833990674588        1   0.00000                 1                             1              25            3.00000         10.00000          1            0                 1    19.00000                       0        nan            1                nan                 1         nan                     10.00000                     0     7.20600                         0                         1                 2\n",
       "1324  1625               Tunday Kababi         63    F        0   28.54043701402948,77.21264726679533        1   0.00000                 1                             1              25            3.00000          4.50000          1            0                 1    19.00000                       0        nan            1                nan                 1         nan                      9.50000                     0     5.42500                         0                         1                 2\n",
       "1325  1626               Tunday Kababi        401    F        0  28.562547687479057,77.24466968832587        1   0.00000                 1                             0              28            3.00000          4.50000          1            0                 1     2.00000                       0        nan            1                nan                 1         nan                      9.50000                     0     6.04100                         0                         1                 2\n",
       "1326  1627                    Litti.in         63    F        0           28.537173,77.20995800000003        1   0.00000                 1                             1              25            3.00000          4.50000          1            0                 1     3.00000                       0        nan            1                nan                 1         nan                      9.50000                     0     3.97500                         0                         1                 2\n",
       "1327  1628                       Kathi         63    F        0  28.530847967666887,77.21882648346707        1   0.00000                 1                             1              25            3.00000         10.00000          1            0                 1     3.00000                       0        nan            1                nan                 1         nan                          nan                     0     4.52000                         0                         0                 2"
      ]
     },
     "execution_count": 134,
     "metadata": {},
     "output_type": "execute_result"
    }
   ],
   "source": [
    "r_df.head()"
   ]
  },
  {
   "cell_type": "code",
   "execution_count": 126,
   "metadata": {},
   "outputs": [],
   "source": [
    "ll = r_df.lat_long.str.split(',').values.tolist()"
   ]
  },
  {
   "cell_type": "code",
   "execution_count": 136,
   "metadata": {},
   "outputs": [],
   "source": [
    "lat = np.array([float(i[0]) for i in ll])\n",
    "lon = np.array([float(i[1]) for i in ll])"
   ]
  },
  {
   "cell_type": "code",
   "execution_count": 137,
   "metadata": {},
   "outputs": [
    {
     "data": {
      "image/png": "[encoded data removed]",
      "text/plain": [
       "<Figure size 432x288 with 1 Axes>"
      ]
     },
     "metadata": {
      "needs_background": "light"
     },
     "output_type": "display_data"
    }
   ],
   "source": [
    "plt.figure(figsize=(6,4))\n",
    "plt.hist(lat, bins = 50)\n",
    "plt.title(\"Distribution of BBOX Latitude\")\n",
    "plt.ylabel(\"Count\")\n",
    "plt.yscale(\"log\")\n",
    "plt.show()"
   ]
  },
  {
   "cell_type": "code",
   "execution_count": 138,
   "metadata": {},
   "outputs": [
    {
     "data": {
      "image/png": "[encoded data removed]",
      "text/plain": [
       "<Figure size 432x288 with 1 Axes>"
      ]
     },
     "metadata": {
      "needs_background": "light"
     },
     "output_type": "display_data"
    }
   ],
   "source": [
    "plt.figure(figsize=(6,4))\n",
    "plt.hist(lon, bins = 50)\n",
    "plt.title(\"Distribution of BBOX Latitude\")\n",
    "plt.ylabel(\"Count\")\n",
    "plt.yscale(\"log\")\n",
    "plt.show()"
   ]
  },
  {
   "cell_type": "code",
   "execution_count": 142,
   "metadata": {},
   "outputs": [
    {
     "name": "stdout",
     "output_type": "stream",
     "text": [
      "26.799099\n",
      "28.76103973388672\n",
      "76.90333299999998\n",
      "77.53216299999997\n"
     ]
    }
   ],
   "source": [
    "print(np.min(np.array(lat[lat > 25])))\n",
    "print(np.max(np.array(lat)))\n",
    "print(np.min(np.array(lon[lon > 76])))\n",
    "print(np.max(np.array(lon)))"
   ]
  },
  {
   "cell_type": "code",
   "execution_count": null,
   "metadata": {},
   "outputs": [],
   "source": []
  },
  {
   "cell_type": "code",
   "execution_count": null,
   "metadata": {},
   "outputs": [],
   "source": []
  }
 ],
 "metadata": {
  "kernelspec": {
   "display_name": "Python 3",
   "language": "python",
   "name": "python3"
  },
  "language_info": {
   "codemirror_mode": {
    "name": "ipython",
    "version": 3
   },
   "file_extension": ".py",
   "mimetype": "text/x-python",
   "name": "python",
   "nbconvert_exporter": "python",
   "pygments_lexer": "ipython3",
   "version": "3.6.9"
  },
  "latex_envs": {
   "LaTeX_envs_menu_present": true,
   "autoclose": false,
   "autocomplete": true,
   "bibliofile": "biblio.bib",
   "cite_by": "apalike",
   "current_citInitial": 1,
   "eqLabelWithNumbers": true,
   "eqNumInitial": 1,
   "hotkeys": {
    "equation": "Ctrl-E",
    "itemize": "Ctrl-I"
   },
   "labels_anchors": false,
   "latex_user_defs": false,
   "report_style_numbering": false,
   "user_envs_cfg": false
  }
 },
 "nbformat": 4,
 "nbformat_minor": 2
}
